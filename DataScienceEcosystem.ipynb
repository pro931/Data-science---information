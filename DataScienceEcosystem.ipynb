{
 "cells": [
  {
   "cell_type": "markdown",
   "id": "d9e2476b-06f9-46b9-b6b4-d97b52cb84f2",
   "metadata": {},
   "source": [
    "# ****Data Science Tools and Ecosystem****"
   ]
  },
  {
   "cell_type": "markdown",
   "id": "bcd42052-5316-49fe-bbba-3f3cf385fa6b",
   "metadata": {},
   "source": [
    "# ****introduction****"
   ]
  },
  {
   "cell_type": "markdown",
   "id": "0f2faa41-aca2-47b9-9460-7d7508e1413b",
   "metadata": {},
   "source": [
    " # ****list data science languages****"
   ]
  },
  {
   "cell_type": "markdown",
   "id": "9174a4e2-2c8a-41fa-813e-87e52636969f",
   "metadata": {},
   "source": [
    "*Python: Python is widely considered the most popular language for data science due to its extensive libraries and frameworks like NumPy, Pandas, Matplotlib, and Scikit-learn. It offers a rich ecosystem for data manipulation, analysis, and visualization.*\n",
    "\n",
    " *R: R is a statistical programming language commonly used for data analysis and statistical modeling. It has a wide range of packages such as ggplot2, dplyr, and caret that make it powerful for data manipulation, visualization, and machine learning.*\n",
    "\n",
    " *SQL: Structured Query Language (SQL) is used for managing and querying relational databases. It is crucial for working with large datasets, performing data extraction, transformation, and loading (ETL) processes, and conducting database-related analysis.*\n",
    "\n",
    " *Java: Java is a general-purpose programming language that is widely used in enterprise applications. It has libraries and frameworks like Apache Hadoop and Apache Flink that support big data processing and analytics.*\n",
    "\n",
    " *Scala: Scala is a general-purpose programming language that combines object-oriented and functional programming paradigms. It is widely used in big data processing frameworks like Apache Spark.*\n",
    "\n"
   ]
  },
  {
   "cell_type": "code",
   "execution_count": null,
   "id": "1871646a-1f97-4720-92fd-3e17799b9bb1",
   "metadata": {},
   "outputs": [],
   "source": []
  },
  {
   "cell_type": "code",
   "execution_count": null,
   "id": "81e8804b-43d7-4d78-8fa2-0367786b55f7",
   "metadata": {},
   "outputs": [],
   "source": []
  },
  {
   "cell_type": "markdown",
   "id": "e5c86de8-122b-4735-b9e9-b063b33cffd4",
   "metadata": {
    "tags": []
   },
   "source": [
    "# ****list data science libraries****"
   ]
  },
  {
   "cell_type": "markdown",
   "id": "6e2700b3-99da-418d-892e-57ed09359e0f",
   "metadata": {},
   "source": [
    "***NumPy: NumPy is a Python library that stands for \"Numerical Python.\" It provides powerful tools for working with large, multi-dimensional arrays and matrices. NumPy offers a wide range of mathematical functions and operations, making it essential for scientific computing and data analysis in Python.***\n",
    "\n",
    "***Pandas: Pandas is another Python library that provides high-performance data manipulation and analysis tools. It introduces the DataFrame, a tabular data structure similar to a spreadsheet or SQL table, which allows for easy data cleaning, transformation, and exploration. Pandas is widely used for data preprocessing and analysis tasks in Python***.\n",
    "\n",
    "***ggplot2: ggplot2 is an R library for creating data visualizations. It is based on the Grammar of Graphics concept and offers a flexible and powerful system for generating publication-quality plots. ggplot2 allows users to create a wide variety of charts, including scatter plots, bar plots, line plots, and more, with extensive customization options.***"
   ]
  },
  {
   "cell_type": "markdown",
   "id": "16b0d542-d141-442b-93b2-64259d75fba8",
   "metadata": {},
   "source": [
    "# ****table of Data Science tools****"
   ]
  },
  {
   "cell_type": "code",
   "execution_count": 2,
   "id": "b04ec0d1-df98-466e-ae36-bdfe4d66a840",
   "metadata": {
    "tags": []
   },
   "outputs": [
    {
     "name": "stdout",
     "output_type": "stream",
     "text": [
      "| Tool             | Description                                                                                                                                                   |\n",
      "|:-----------------|:--------------------------------------------------------------------------------------------------------------------------------------------------------------|\n",
      "| Python           | A versatile programming language with rich libraries like NumPy, Pandas, and Scikit-learn, widely used for data manipulation, analysis, and machine learning. |\n",
      "| R                | A statistical programming language with a wide range of packages for data analysis, visualization, and statistical modeling.                                  |\n",
      "| SQL              | A language used for managing and querying relational databases, essential for working with large datasets and conducting database-related analysis.           |\n",
      "| Jupyter Notebook | An open-source web application that allows you to create and share documents containing live code, equations, visualizations, and narrative text.             |\n",
      "| Apache Spark     | A powerful distributed data processing engine that provides fast and scalable data processing capabilities, commonly used for big data analytics.             |\n",
      "| TensorFlow       | An open-source machine learning framework developed by Google, widely used for building and training neural networks.                                         |\n",
      "| PyTorch          | An open-source machine learning framework that provides a dynamic computational graph and is popular for deep learning research and development.              |\n",
      "| Tableau          | A data visualization tool that allows users to create interactive and visually appealing dashboards and reports.                                              |\n",
      "| KNIME            | A platform for data pipelining, automation, and analytics that allows users to visually create and execute data workflows.                                    |\n",
      "| Power BI         | A business analytics tool by Microsoft that provides interactive data visualization and business intelligence capabilities.                                   |\n"
     ]
    }
   ],
   "source": [
    "from tabulate import tabulate\n",
    "\n",
    "table = [\n",
    "    [\"Tool\", \"Description\"],\n",
    "    [\"Python\", \"A versatile programming language with rich libraries like NumPy, Pandas, and Scikit-learn, widely used for data manipulation, analysis, and machine learning.\"],\n",
    "    [\"R\", \"A statistical programming language with a wide range of packages for data analysis, visualization, and statistical modeling.\"],\n",
    "    [\"SQL\", \"A language used for managing and querying relational databases, essential for working with large datasets and conducting database-related analysis.\"],\n",
    "    [\"Jupyter Notebook\", \"An open-source web application that allows you to create and share documents containing live code, equations, visualizations, and narrative text.\"],\n",
    "    [\"Apache Spark\", \"A powerful distributed data processing engine that provides fast and scalable data processing capabilities, commonly used for big data analytics.\"],\n",
    "    [\"TensorFlow\", \"An open-source machine learning framework developed by Google, widely used for building and training neural networks.\"],\n",
    "    [\"PyTorch\", \"An open-source machine learning framework that provides a dynamic computational graph and is popular for deep learning research and development.\"],\n",
    "    [\"Tableau\", \"A data visualization tool that allows users to create interactive and visually appealing dashboards and reports.\"],\n",
    "    [\"KNIME\", \"A platform for data pipelining, automation, and analytics that allows users to visually create and execute data workflows.\"],\n",
    "    [\"Power BI\", \"A business analytics tool by Microsoft that provides interactive data visualization and business intelligence capabilities.\"]\n",
    "]\n",
    "\n",
    "table_md = tabulate(table, headers=\"firstrow\", tablefmt=\"pipe\")\n",
    "\n",
    "print(table_md)"
   ]
  },
  {
   "cell_type": "markdown",
   "id": "e1e61253-9b1d-4756-90f6-8a05da61d94a",
   "metadata": {},
   "source": [
    "\n",
    "# ****Arithmetic Expression Examples****\n"
   ]
  },
  {
   "cell_type": "markdown",
   "id": "5872c461-9c9e-4dff-8d22-c59ca85567d7",
   "metadata": {},
   "source": [
    "Arithmetic expressions are mathematical expressions \n",
    "that involve arithmetic operations such as addition, \n",
    " subtraction, multiplication, and division. These expressions \n",
    " are commonly used in programming and mathematics to perform calculations.\n",
    "\n",
    " Here are a few examples of arithmetic expressions:\n",
    "\n",
    " 1. Addition: \n",
    "    - `3 + 5` equals 8\n",
    "    - `2.5 + 1.3` equals 3.8\n",
    "\n",
    " 2. Subtraction:\n",
    "    - `10 - 6` equals 4\n",
    "    - `7.8 - 3.2` equals 4.6\n",
    "\n",
    " 3. Multiplication:\n",
    "    - `4 * 3` equals 12\n",
    "    - `2.5 * 1.5` equals 3.75\n",
    "\n",
    " 4. Division:\n",
    "   - `10 / 2` equals 5\n",
    "   - `7.5 / 2.5` equals 3.0\n",
    "\n",
    " Arithmetic expressions can also include parentheses to specify the order of operations. For example:\n",
    " - `(4 + 3) * 2` equals 14\n",
    " - `8 / (2 + 2)` equals 2"
   ]
  },
  {
   "cell_type": "markdown",
   "id": "94d6e98b-10d2-4e34-b6bf-476da951e84c",
   "metadata": {},
   "source": [
    "# ****multiply and add numbers****"
   ]
  },
  {
   "cell_type": "code",
   "execution_count": 4,
   "id": "e886b309-d5af-490e-bf5e-5a6ec7eaeddc",
   "metadata": {
    "tags": []
   },
   "outputs": [
    {
     "name": "stdout",
     "output_type": "stream",
     "text": [
      "17\n"
     ]
    }
   ],
   "source": [
    "\n",
    "# Multiply and add numbers\n",
    "result = (3 * 4) + 5\n",
    "\n",
    "print(result)"
   ]
  },
  {
   "cell_type": "markdown",
   "id": "0585d8f4-a73e-4f8c-bdd5-ec5ac28493e3",
   "metadata": {},
   "source": [
    "# ****convert minutes to hours****"
   ]
  },
  {
   "cell_type": "code",
   "execution_count": 5,
   "id": "63d551ee-195a-47b8-8be3-d968e679115b",
   "metadata": {
    "tags": []
   },
   "outputs": [
    {
     "name": "stdout",
     "output_type": "stream",
     "text": [
      "3.3333333333333335\n"
     ]
    }
   ],
   "source": [
    "# Convert minutes to hours\n",
    "minutes = 200\n",
    "hours = minutes / 60\n",
    "\n",
    "print(hours)"
   ]
  },
  {
   "cell_type": "markdown",
   "id": "cbd66a61-e3b4-44f1-885d-4ade96ee04bf",
   "metadata": {},
   "source": [
    "# **Rimas**"
   ]
  },
  {
   "cell_type": "code",
   "execution_count": null,
   "id": "d11de6f2-558b-4ad0-bb4d-949f8dcafeb3",
   "metadata": {},
   "outputs": [],
   "source": []
  }
 ],
 "metadata": {
  "kernelspec": {
   "display_name": "Python 3 (ipykernel)",
   "language": "python",
   "name": "python3"
  },
  "language_info": {
   "codemirror_mode": {
    "name": "ipython",
    "version": 3
   },
   "file_extension": ".py",
   "mimetype": "text/x-python",
   "name": "python",
   "nbconvert_exporter": "python",
   "pygments_lexer": "ipython3",
   "version": "3.11.3"
  }
 },
 "nbformat": 4,
 "nbformat_minor": 5
}
